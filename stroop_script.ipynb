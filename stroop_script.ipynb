{
 "cells": [
  {
   "cell_type": "code",
   "execution_count": 1,
   "metadata": {},
   "outputs": [],
   "source": [
    "import csv\n",
    "import statistics\n",
    "import cmath\n",
    "import matplotlib.pyplot as plt\n",
    "import numpy as np\n",
    "import pandas as pd"
   ]
  },
  {
   "cell_type": "code",
   "execution_count": 2,
   "metadata": {},
   "outputs": [],
   "source": [
    "def readstroopsampledata(filename):\n",
    "    '''\n",
    "      Reads the stoop data file and stores the congruent and non congruent data in two seperate lists\n",
    "    '''\n",
    "    with open(filename,\"r\") as f:\n",
    "        stroop_data=csv.DictReader(f)\n",
    "        stroop_congruent=[]\n",
    "        stroop_incongruent=[]\n",
    "        for row in stroop_data:\n",
    "            stroop_congruent.append(float(row[\"congruent\"]))\n",
    "            stroop_incongruent.append(float(row[\"incongruent\"]))  \n",
    "    return stroop_congruent,stroop_incongruent"
   ]
  },
  {
   "cell_type": "code",
   "execution_count": 3,
   "metadata": {},
   "outputs": [],
   "source": [
    "def calculatemean(stroopcongruent,stroopincongruent):\n",
    "    meancongruent=statistics.mean(stroopcongruent)\n",
    "    meanincongruent=statistics.mean(stroopincongruent)\n",
    "    return meancongruent,meanincongruent"
   ]
  },
  {
   "cell_type": "code",
   "execution_count": 4,
   "metadata": {},
   "outputs": [],
   "source": [
    "def calculatemeandifference(meancongruent,meanincongruent):\n",
    "    return meanincongruent-meancongruent"
   ]
  },
  {
   "cell_type": "code",
   "execution_count": 5,
   "metadata": {},
   "outputs": [],
   "source": [
    "def calculatecongruent_incongruentdatadiff(stroopcongruent,stroopincongruent):\n",
    "    stroopdatadiff=zip(stroopcongruent,stroopincongruent)\n",
    "    congruentincongruentdiff =[b-a for a,b in stroopdatadiff]\n",
    "    return congruentincongruentdiff"
   ]
  },
  {
   "cell_type": "code",
   "execution_count": 6,
   "metadata": {},
   "outputs": [],
   "source": [
    "def calculatedegreeoffreedom(samplesize):\n",
    "    df=samplesize-1\n",
    "    return df"
   ]
  },
  {
   "cell_type": "code",
   "execution_count": 7,
   "metadata": {},
   "outputs": [],
   "source": [
    "def calculatediffmean(congruentincongruentdiff):\n",
    "    return statistics.mean(congruentincongruentdiff)"
   ]
  },
  {
   "cell_type": "code",
   "execution_count": 8,
   "metadata": {},
   "outputs": [],
   "source": [
    "def calculatedifffrommean(congruentincongruentdiff,meandiff):\n",
    "    difffrommean=list()\n",
    "    for num in range(len(congruentincongruentdiff)):\n",
    "       difffrommean.append(congruentincongruentdiff[num]-meandiff)\n",
    "    return difffrommean"
   ]
  },
  {
   "cell_type": "code",
   "execution_count": 9,
   "metadata": {},
   "outputs": [],
   "source": [
    "def calculatevariance(congreuentincongruentdiff,df):\n",
    "    squareddiff= [a*b for a,b in zip(congreuentincongruentdiff,congruentincongruentdiff)]\n",
    "    sumsquareddiff=sum(squareddiff)\n",
    "    variance=sumsquareddiff/df\n",
    "    return variance"
   ]
  },
  {
   "cell_type": "code",
   "execution_count": 10,
   "metadata": {},
   "outputs": [],
   "source": [
    "def calculatestandarddeviation(variance):\n",
    "    return variance**0.5"
   ]
  },
  {
   "cell_type": "code",
   "execution_count": 11,
   "metadata": {},
   "outputs": [],
   "source": [
    "def calculatestandarderror(sd,samplesize):\n",
    "    se=sd/(samplesize**0.5)\n",
    "    return se"
   ]
  },
  {
   "cell_type": "code",
   "execution_count": 12,
   "metadata": {},
   "outputs": [],
   "source": [
    "def calculatetstatistic(meandiff,standarderror):\n",
    "    return meandiff/standarderror"
   ]
  },
  {
   "cell_type": "code",
   "execution_count": 13,
   "metadata": {},
   "outputs": [],
   "source": [
    "def rejectnullhypothesis(t_statistic,t_critical):\n",
    "    if(t_statistic>t_critical):\n",
    "        ##reject the null hypotheis\n",
    "        return True\n",
    "    else:\n",
    "        return False"
   ]
  },
  {
   "cell_type": "code",
   "execution_count": 14,
   "metadata": {},
   "outputs": [],
   "source": [
    "def calculatecohend(diffmean,samplesize):\n",
    "    d=diffmean/samplesize**0.5\n",
    "    return d"
   ]
  },
  {
   "cell_type": "code",
   "execution_count": 15,
   "metadata": {},
   "outputs": [
    {
     "name": "stdout",
     "output_type": "stream",
     "text": [
      "************************Calculated Statistical parameters*************************************************\n",
      "The mean of congruent data : 13.84972\n",
      "The mean of incongruent data : 21.97928\n",
      "The mean of difference between congruent and incongruent data :  8.12956\n",
      "The degree of freedom: 24\n",
      "The variance of difference between congruent and incongruent samples :  23.35915009\n",
      "The SD of difference between congruent and incongruent samples  : 4.833130464822981\n",
      "The t-statistic is :  8.410242656565401\n",
      "Cohen-d is: 1.625912\n",
      "The way data displayed to the user has a greater impact on response time\n",
      "******************************************************************************************************************\n",
      "Reject Null Hypotheis\n",
      "The response time for incongruent test takes more time than the response time for congruent test in stroop test\n",
      "******************************************************************************************************************\n"
     ]
    }
   ],
   "source": [
    "stroopcongruent,stroopincongruent =readstroopsampledata(\"stroop_data.csv\")\n",
    "meancongruent,meanincongruent=calculatemean(stroopcongruent,stroopincongruent)\n",
    "meandiff=calculatemeandifference(meancongruent,meanincongruent)\n",
    "congruentincongruentdiff=calculatecongruent_incongruentdatadiff(stroopcongruent,stroopincongruent)\n",
    "samplesize=25\n",
    "df=calculatedegreeoffreedom(samplesize)\n",
    "diffmean=calculatediffmean(congruentincongruentdiff)\n",
    "difffrommean=calculatedifffrommean(congruentincongruentdiff,diffmean)\n",
    "variance=calculatevariance(difffrommean,df)\n",
    "sd=calculatestandarddeviation(variance)\n",
    "se=calculatestandarderror(sd,samplesize)\n",
    "t_statistic=float(calculatetstatistic(meandiff,se))\n",
    "## t-critical by looking at the t-table. (α=0.05,single-tailed,df=24)\n",
    "##95% confidence interval. \n",
    "t_critical=1.7109\n",
    "cohen_d=calculatecohend(diffmean,samplesize)\n",
    "print(\"************************Calculated Statistical parameters*************************************************\")\n",
    "print(\"The mean of congruent data :\",meancongruent)\n",
    "print(\"The mean of incongruent data :\",meanincongruent)\n",
    "print(\"The mean of difference between congruent and incongruent data : \",diffmean)\n",
    "print(\"The degree of freedom:\",df)\n",
    "print(\"The variance of difference between congruent and incongruent samples : \",variance)\n",
    "print(\"The SD of difference between congruent and incongruent samples  :\",sd)\n",
    "print(\"The t-statistic is : \",t_statistic)\n",
    "print(\"Cohen-d is:\" ,cohen_d)\n",
    "if (cohen_d>1):\n",
    "    print(\"The way data displayed to the user has a greater impact on response time\")\n",
    "else:\n",
    "    print(\"The way data displayed to the user has no significant impact on the response time\")\n",
    "isalternatehypothesisaccepted=rejectnullhypothesis(t_statistic,t_critical)\n",
    "if(isalternatehypothesisaccepted==True):\n",
    "    print(\"******************************************************************************************************************\")\n",
    "    print(\"Reject Null Hypotheis\")\n",
    "    print(\"The response time for incongruent test takes more time than the response time for congruent test in stroop test\")\n",
    "    print(\"******************************************************************************************************************\")\n",
    "else:\n",
    "    print(\"Accept Null Hypotheis\")\n",
    "    print(\"******************************************************************************************************************\")\n",
    "    print(\"The response time for both incongruent and congruent test are not significantly different in stroop test\")\n",
    "    print(\"******************************************************************************************************************\")\n",
    "\n",
    "\n",
    "\n",
    "\n"
   ]
  },
  {
   "cell_type": "code",
   "execution_count": 16,
   "metadata": {},
   "outputs": [],
   "source": [
    "def plotboxcharts(stroopcongruent,stroopincongruent):\n",
    "    data=[stroopcongruent,stroopincongruent]\n",
    "    plt.boxplot(data,labels=[\"Congruent\",\"InCongruent\"])\n",
    "    plt.show()"
   ]
  },
  {
   "cell_type": "code",
   "execution_count": 18,
   "metadata": {
    "scrolled": true
   },
   "outputs": [
    {
     "data": {
      "image/png": "[encoded data removed]",
      "text/plain": [
       "<matplotlib.figure.Figure at 0x10e7c7d30>"
      ]
     },
     "metadata": {},
     "output_type": "display_data"
    }
   ],
   "source": [
    "plotboxcharts(stroopcongruent,stroopincongruent)"
   ]
  },
  {
   "cell_type": "markdown",
   "metadata": {},
   "source": [
    "The distribution of the sample data can be better visualized with the boxplot shown above. Based on the box plot, the response time of the task under incongruent words condition appears to be longer than that of the congruent words condition, which is consistent with the sample statistics generated earlier. Also,the distribution of the sample data from the Incongruent group is likely to be positively skewed due to two outliners(Row no 17 and Row no 22)"
   ]
  },
  {
   "cell_type": "code",
   "execution_count": 20,
   "metadata": {},
   "outputs": [
    {
     "data": {
      "text/plain": [
       "<matplotlib.figure.Figure at 0x10e839828>"
      ]
     },
     "metadata": {},
     "output_type": "display_data"
    },
    {
     "data": {
      "image/png": "[encoded data removed]",
      "text/plain": [
       "<matplotlib.figure.Figure at 0x1095ad2e8>"
      ]
     },
     "metadata": {},
     "output_type": "display_data"
    }
   ],
   "source": [
    "plt.style.use('ggplot')\n",
    "df = pd.DataFrame({'Congruent':stroopcongruent, 'Incongruent': stroopincongruent},\n",
    "                   columns=['Congruent', 'Incongruent'])\n",
    "plt.figure();\n",
    "df.plot.hist(title=\"Stroop Data\", stacked=\"false\", bins = 25);\n",
    "plt.ylabel('Count')\n",
    "plt.xlabel('Time in Seconds')\n",
    "plt.title('Stroop Test')\n",
    "plt.show()"
   ]
  },
  {
   "cell_type": "markdown",
   "metadata": {},
   "source": [
    "The histogram clearly shows that the incongruent data has got some outliers around response time of 35 seconds. Also the histogram shows that the congruent data is read faster than the non-congruent data. "
   ]
  }
 ],
 "metadata": {
  "kernelspec": {
   "display_name": "Python 3",
   "language": "python",
   "name": "python3"
  },
  "language_info": {
   "codemirror_mode": {
    "name": "ipython",
    "version": 3
   },
   "file_extension": ".py",
   "mimetype": "text/x-python",
   "name": "python",
   "nbconvert_exporter": "python",
   "pygments_lexer": "ipython3",
   "version": "3.6.4"
  }
 },
 "nbformat": 4,
 "nbformat_minor": 2
}
